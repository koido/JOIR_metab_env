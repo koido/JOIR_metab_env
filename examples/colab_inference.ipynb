{
 "cells": [
  {
   "cell_type": "markdown",
   "metadata": {},
   "source": [
    "# Google Colab Example\n",
    "このノートブックは Colab 上でリポジトリを実行する手順を示します。"
   ]
  },
  {
   "cell_type": "code",
   "metadata": {},
   "source": [
    "!git clone https://github.com/<ユーザー名>/JOIR_metab_env_dev.git",
    "\n%cd JOIR_metab_env_dev"
   ],
   "outputs": [],
   "execution_count": null
  },
  {
   "cell_type": "code",
   "metadata": {},
   "source": [
    "!pip install torch transformers"
   ],
   "outputs": [],
   "execution_count": null
  },
  {
   "cell_type": "markdown",
   "metadata": {},
   "source": [
    "**Optional:** Runtime → Change runtime type から GPU を選択すると高速に実行できます。"
   ]
  },
  {
   "cell_type": "code",
   "metadata": {},
   "source": [
    "!python examples/inference.py"
   ],
   "outputs": [],
   "execution_count": null
  }
 ],
 "metadata": {
  "kernelspec": {
   "display_name": "Python 3",
   "language": "python",
   "name": "python3"
  },
  "language_info": {
   "name": "python",
   "pygments_lexer": "ipython3"
  }
 },
 "nbformat": 4,
 "nbformat_minor": 5
}
